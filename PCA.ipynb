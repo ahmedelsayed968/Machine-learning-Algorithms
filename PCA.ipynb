{
  "cells": [
    {
      "cell_type": "markdown",
      "metadata": {
        "id": "view-in-github",
        "colab_type": "text"
      },
      "source": [
        "<a href=\"https://colab.research.google.com/github/ahmedelsayed968/Machine-learning-Algorithms/blob/main/PCA.ipynb\" target=\"_parent\"><img src=\"https://colab.research.google.com/assets/colab-badge.svg\" alt=\"Open In Colab\"/></a>"
      ]
    },
    {
      "cell_type": "code",
      "execution_count": 2,
      "metadata": {
        "collapsed": true,
        "pycharm": {
          "name": "#%%\n"
        },
        "id": "DRPkZV_TOQfu"
      },
      "outputs": [],
      "source": [
        "import numpy as np\n",
        "import pandas as pd\n",
        "import matplotlib.pyplot as plt"
      ]
    },
    {
      "cell_type": "code",
      "execution_count": 3,
      "outputs": [],
      "source": [
        "X = np.random.rand(5,5)\n",
        "# print(X)"
      ],
      "metadata": {
        "pycharm": {
          "name": "#%%\n"
        },
        "id": "DHEtI4bNOQfx"
      }
    },
    {
      "cell_type": "code",
      "execution_count": 32,
      "outputs": [],
      "source": [
        "import copy\n",
        "class PCA_E:\n",
        "    def __init__(self,n_component):\n",
        "        self.n_component = n_component\n",
        "        self.weights_from_cov = None\n",
        "        self.components  = None\n",
        "\n",
        "    def fit_transform(self,A_mat):\n",
        "        \"\"\"\n",
        "        :param A_mat: input matrix\n",
        "        :return: n_components of this matrix after linear transformation\n",
        "        \"\"\"\n",
        "        # Normalize the matrix about the mean\n",
        "        X_centered = A_mat - A_mat.mean(axis=0)\n",
        "\n",
        "        # compute the covariance-variance matrix of the Matrix\n",
        "        cov_matrix = np.cov(X_centered.T)\n",
        "\n",
        "        # compute the eigen values\n",
        "        # compute the eigen vectors\n",
        "        self.eigen_values,self.eigen_vectors = np.linalg.eig(cov_matrix)\n",
        "\n",
        "        # sort the eigen vectors according to the highest eigen values\n",
        "        self.eigen_values = self.eigen_values.T\n",
        "        self.eigen_vectors = self.eigen_vectors.T\n",
        "        \n",
        "        # sort in decreasing order\n",
        "        sorted_indices = np.argsort(self.eigen_values)[::-1]\n",
        "        self.eigen_values = self.eigen_values[sorted_indices]\n",
        "        self.eigen_vectors = self.eigen_vectors[sorted_indices]\n",
        "        # choose the n_components of the eigen vectors\n",
        "        self.components = self.eigen_vectors[0:self.n_component,:]\n",
        "\n",
        "        # compute the new reduced features --> y = x.W\n",
        "        new_features = np.dot(A_mat,self.components.T)\n",
        "        return new_features\n",
        "    \n",
        "    def inverse_trasnform(self,reduced_mat):\n",
        "      \"\"\"\n",
        "        :param A_mat: compressed matrix\n",
        "        :return: the reconstracted data after compression\n",
        "      \"\"\"\n",
        "      try:\n",
        "          return np.dot(reduced_mat,self.components)\n",
        "      except:\n",
        "        raise Exception(\"Error\")\n",
        "              \n"
      ],
      "metadata": {
        "pycharm": {
          "name": "#%%\n"
        },
        "id": "8FQDJM6UOQfy"
      }
    },
    {
      "cell_type": "code",
      "source": [
        "pca = PCA_E(n_component=1)\n",
        "X2d = pca.fit_transform(X)\n",
        "X2d"
      ],
      "metadata": {
        "colab": {
          "base_uri": "https://localhost:8080/"
        },
        "id": "4zo11ynhaJr2",
        "outputId": "0d953766-5c2b-4cfc-8762-fd8a96bef354"
      },
      "execution_count": 33,
      "outputs": [
        {
          "output_type": "execute_result",
          "data": {
            "text/plain": [
              "array([[0.52451215],\n",
              "       [0.30106671],\n",
              "       [1.18149186],\n",
              "       [1.10331205],\n",
              "       [0.94486799]])"
            ]
          },
          "metadata": {},
          "execution_count": 33
        }
      ]
    },
    {
      "cell_type": "code",
      "source": [
        "X"
      ],
      "metadata": {
        "colab": {
          "base_uri": "https://localhost:8080/"
        },
        "id": "onhqib1eaylE",
        "outputId": "076b0200-4a3c-4056-de8b-16b1a64223b0"
      },
      "execution_count": 34,
      "outputs": [
        {
          "output_type": "execute_result",
          "data": {
            "text/plain": [
              "array([[0.47377511, 0.65618719, 0.22059753, 0.50277261, 0.22276819],\n",
              "       [0.19163656, 0.42591566, 0.10579572, 0.3552231 , 0.50898051],\n",
              "       [0.86013392, 0.42523096, 0.21262415, 0.98833773, 0.36250787],\n",
              "       [0.74264183, 0.24056741, 0.26377175, 0.89701099, 0.49440099],\n",
              "       [0.34671395, 0.18821166, 0.30297758, 0.9767644 , 0.4949987 ]])"
            ]
          },
          "metadata": {},
          "execution_count": 34
        }
      ]
    },
    {
      "cell_type": "code",
      "source": [
        "pca.inverse_trasnform(X2d)\n"
      ],
      "metadata": {
        "colab": {
          "base_uri": "https://localhost:8080/"
        },
        "id": "9ELXv7izasYO",
        "outputId": "a55e34e2-060d-4207-d78d-9ff2ca4eceb8"
      },
      "execution_count": 35,
      "outputs": [
        {
          "output_type": "execute_result",
          "data": {
            "text/plain": [
              "array([[ 0.31375572, -0.13700543,  0.07131837,  0.39042912,  0.01945893],\n",
              "       [ 0.18009383, -0.07864026,  0.0409363 ,  0.22410388,  0.01116931],\n",
              "       [ 0.70675166, -0.30861211,  0.16064848,  0.87946261,  0.0438323 ],\n",
              "       [ 0.6599856 , -0.28819112,  0.1500183 ,  0.8212682 ,  0.0409319 ],\n",
              "       [ 0.56520662, -0.24680467,  0.12847452,  0.7033278 ,  0.03505376]])"
            ]
          },
          "metadata": {},
          "execution_count": 35
        }
      ]
    },
    {
      "cell_type": "code",
      "execution_count": 12,
      "outputs": [],
      "source": [
        "from sklearn.decomposition import PCA\n",
        "pca = PCA(n_components = 1)\n",
        "X3D = pca.fit_transform(X)\n"
      ],
      "metadata": {
        "pycharm": {
          "name": "#%%\n"
        },
        "id": "M4XUTn2WOQf2"
      }
    },
    {
      "cell_type": "code",
      "execution_count": 13,
      "outputs": [
        {
          "output_type": "execute_result",
          "data": {
            "text/plain": [
              "array([[ 0.286538  ],\n",
              "       [ 0.50998345],\n",
              "       [-0.37044171],\n",
              "       [-0.2922619 ],\n",
              "       [-0.13381784]])"
            ]
          },
          "metadata": {},
          "execution_count": 13
        }
      ],
      "source": [
        "X3D"
      ],
      "metadata": {
        "pycharm": {
          "name": "#%%\n"
        },
        "colab": {
          "base_uri": "https://localhost:8080/"
        },
        "id": "RBLsuK9WOQf2",
        "outputId": "e7396939-616c-406e-e359-f0fccc12a9ec"
      }
    },
    {
      "cell_type": "code",
      "execution_count": null,
      "outputs": [
        {
          "output_type": "execute_result",
          "data": {
            "text/plain": [
              "array([0.64530484, 0.21185378, 0.09751626])"
            ]
          },
          "metadata": {},
          "execution_count": 53
        }
      ],
      "source": [
        "pca.explained_variance_ratio_"
      ],
      "metadata": {
        "pycharm": {
          "name": "#%%\n"
        },
        "colab": {
          "base_uri": "https://localhost:8080/"
        },
        "id": "KGiA853BOQf3",
        "outputId": "a67db59c-f399-4622-9469-03614553a447"
      }
    },
    {
      "cell_type": "markdown",
      "source": [
        "## Automate the Number of selected components"
      ],
      "metadata": {
        "collapsed": false,
        "pycharm": {
          "name": "#%% md\n"
        },
        "id": "iE9XJkNEOQf3"
      }
    },
    {
      "cell_type": "code",
      "execution_count": null,
      "outputs": [
        {
          "output_type": "stream",
          "name": "stdout",
          "text": [
            "3\n"
          ]
        }
      ],
      "source": [
        "pca_2 = PCA()\n",
        "pca_2.fit(X)\n",
        "cumsum = np.cumsum(pca_2.explained_variance_ratio_)\n",
        "# d = np.argmax(cumsum >= 0.95) + 1\n",
        "d = np.argmax(cumsum >=0.95) +1\n",
        "print(d)"
      ],
      "metadata": {
        "pycharm": {
          "name": "#%%\n"
        },
        "colab": {
          "base_uri": "https://localhost:8080/"
        },
        "id": "lIj1rl5EOQf3",
        "outputId": "e9506ac2-d49f-486e-8ce6-48cf877103ad"
      }
    },
    {
      "cell_type": "code",
      "execution_count": null,
      "outputs": [
        {
          "output_type": "execute_result",
          "data": {
            "text/plain": [
              "array([[ 2.34512467e-01,  3.15105366e-01,  1.21104473e-01],\n",
              "       [-2.77148122e-01, -2.89727559e-01, -2.22816785e-01],\n",
              "       [-1.70500580e-04,  3.12120540e-01, -2.08607261e-01],\n",
              "       [ 7.15605095e-01, -2.74566257e-01,  8.54170303e-02],\n",
              "       [-6.72798939e-01, -6.29320905e-02,  2.24902542e-01]])"
            ]
          },
          "metadata": {},
          "execution_count": 55
        }
      ],
      "source": [
        "## specify the n_components indicating the\n",
        "## ratio of variance you wish to preserve:\n",
        "\n",
        "pca_3 = PCA(n_components=0.95)\n",
        "x_reduced = pca_3.fit_transform(X)\n",
        "x_reduced"
      ],
      "metadata": {
        "pycharm": {
          "name": "#%%\n"
        },
        "colab": {
          "base_uri": "https://localhost:8080/"
        },
        "id": "-yK__VR6OQf4",
        "outputId": "681e35b4-fe10-41c0-8c7b-a80be3512903"
      }
    },
    {
      "cell_type": "code",
      "execution_count": null,
      "outputs": [
        {
          "output_type": "execute_result",
          "data": {
            "text/plain": [
              "array([0.64530484, 0.85715862, 0.95467487, 1.        , 1.        ])"
            ]
          },
          "metadata": {},
          "execution_count": 56
        }
      ],
      "source": [
        "cumsum"
      ],
      "metadata": {
        "pycharm": {
          "name": "#%%\n"
        },
        "colab": {
          "base_uri": "https://localhost:8080/"
        },
        "id": "tYVfD0tkOQf4",
        "outputId": "5cdd5288-b872-4a28-8030-23a9d7bbe337"
      }
    },
    {
      "cell_type": "code",
      "execution_count": null,
      "outputs": [
        {
          "output_type": "execute_result",
          "data": {
            "text/plain": [
              "[<matplotlib.lines.Line2D at 0x7f9d61bb7f40>]"
            ]
          },
          "metadata": {},
          "execution_count": 57
        },
        {
          "output_type": "display_data",
          "data": {
            "text/plain": [
              "<Figure size 432x288 with 1 Axes>"
            ],
            "image/png": "[encoded data removed]"
          },
          "metadata": {
            "needs_background": "light"
          }
        }
      ],
      "source": [
        "plt.plot([1,2,3,4,5],list(cumsum))"
      ],
      "metadata": {
        "pycharm": {
          "name": "#%%\n"
        },
        "colab": {
          "base_uri": "https://localhost:8080/",
          "height": 282
        },
        "id": "EHpZ-kTXOQf4",
        "outputId": "f503ad32-f11f-4c44-d744-ac7dad79c1b2"
      }
    },
    {
      "cell_type": "markdown",
      "source": [
        "## IPCA\n",
        "used for large data set that consists of large instances that can not be cached on the memory so we have divide it into batches "
      ],
      "metadata": {
        "collapsed": false,
        "pycharm": {
          "name": "#%% md\n"
        },
        "id": "60gPaf3nOQf4"
      }
    },
    {
      "cell_type": "code",
      "execution_count": null,
      "outputs": [
        {
          "output_type": "execute_result",
          "data": {
            "text/plain": [
              "<matplotlib.image.AxesImage at 0x7f9dcc2c4430>"
            ]
          },
          "metadata": {},
          "execution_count": 58
        },
        {
          "output_type": "display_data",
          "data": {
            "text/plain": [
              "<Figure size 432x288 with 1 Axes>"
            ],
            "image/png": "[encoded data removed]"
          },
          "metadata": {
            "needs_background": "light"
          }
        }
      ],
      "source": [
        "from sklearn.datasets import load_digits\n",
        "Xminst = load_digits(n_class=10)\n",
        "\n",
        "plt.imshow(Xminst.images[5],cmap=\"gray\")"
      ],
      "metadata": {
        "pycharm": {
          "name": "#%%\n"
        },
        "colab": {
          "base_uri": "https://localhost:8080/",
          "height": 282
        },
        "id": "n0hbFDcsOQf5",
        "outputId": "e26362d5-2f96-49b4-d227-8ca782e5ff82"
      }
    },
    {
      "cell_type": "code",
      "execution_count": null,
      "outputs": [
        {
          "output_type": "execute_result",
          "data": {
            "text/plain": [
              "(1797, 64)"
            ]
          },
          "metadata": {},
          "execution_count": 59
        }
      ],
      "source": [
        "\n",
        "Xminst.data.shape"
      ],
      "metadata": {
        "pycharm": {
          "name": "#%%\n"
        },
        "colab": {
          "base_uri": "https://localhost:8080/"
        },
        "id": "3lzwljDIOQf5",
        "outputId": "23dbb40a-a561-4167-b9f4-5f7add3d5e10"
      }
    },
    {
      "cell_type": "code",
      "execution_count": null,
      "outputs": [
        {
          "output_type": "execute_result",
          "data": {
            "text/plain": [
              "(1797,)"
            ]
          },
          "metadata": {},
          "execution_count": 60
        }
      ],
      "source": [
        "Xminst.target.shape"
      ],
      "metadata": {
        "pycharm": {
          "name": "#%%\n"
        },
        "colab": {
          "base_uri": "https://localhost:8080/"
        },
        "id": "TcjurYPiOQf5",
        "outputId": "78dd60a0-8dae-4a69-b71d-19d3d66c00a2"
      }
    },
    {
      "cell_type": "code",
      "execution_count": null,
      "outputs": [],
      "source": [
        "from sklearn.datasets import fetch_openml\n",
        "mnist = fetch_openml('mnist_784', version=1, cache=True)"
      ],
      "metadata": {
        "pycharm": {
          "name": "#%%\n"
        },
        "id": "OUNzudenOQf5"
      }
    },
    {
      "cell_type": "code",
      "execution_count": null,
      "outputs": [
        {
          "output_type": "execute_result",
          "data": {
            "text/plain": [
              "(70000, 784)"
            ]
          },
          "metadata": {},
          "execution_count": 62
        }
      ],
      "source": [
        "mnist.data.shape"
      ],
      "metadata": {
        "pycharm": {
          "name": "#%%\n"
        },
        "colab": {
          "base_uri": "https://localhost:8080/"
        },
        "id": "LfGh10uTOQf5",
        "outputId": "83e047ee-b41e-4166-b724-aca820c16022"
      }
    },
    {
      "cell_type": "code",
      "source": [
        "mnist.target.shape"
      ],
      "metadata": {
        "colab": {
          "base_uri": "https://localhost:8080/"
        },
        "id": "Zz6MHOqlOyF-",
        "outputId": "68836bfa-8df4-48fa-c7dc-3da727cfe79f"
      },
      "execution_count": null,
      "outputs": [
        {
          "output_type": "execute_result",
          "data": {
            "text/plain": [
              "(70000,)"
            ]
          },
          "metadata": {},
          "execution_count": 63
        }
      ]
    },
    {
      "cell_type": "code",
      "source": [
        "from sklearn.decomposition import IncrementalPCA\n",
        "Xmnist = mnist.data\n",
        "Ymnist = mnist.target\n",
        "\n",
        "# divide the training set into batches and feed the IPCA\n",
        "n_batches = 100\n",
        "inc_pca = IncrementalPCA(n_components=160)\n",
        "for X_batch in np.array_split(Xmnist,n_batches):\n",
        "  inc_pca.partial_fit(X_batch)\n",
        "\n",
        "x_reduced = inc_pca.transform(Xmnist)"
      ],
      "metadata": {
        "id": "vP48shbyO0o7"
      },
      "execution_count": null,
      "outputs": []
    },
    {
      "cell_type": "code",
      "source": [
        "inc_pca.explained_variance_ratio_"
      ],
      "metadata": {
        "colab": {
          "base_uri": "https://localhost:8080/"
        },
        "id": "CDJfhr2_QCdm",
        "outputId": "f1729d3a-91b4-4712-c879-38ab7ae75287"
      },
      "execution_count": null,
      "outputs": [
        {
          "output_type": "execute_result",
          "data": {
            "text/plain": [
              "array([0.09746115, 0.07155444, 0.0614953 , 0.05403383, 0.04888932,\n",
              "       0.04305225, 0.03278259, 0.02889638, 0.02758361, 0.02342136,\n",
              "       0.02106685, 0.02037549, 0.0170706 , 0.01694015, 0.01583378,\n",
              "       0.01486339, 0.01319353, 0.01279007, 0.01187266, 0.0115293 ,\n",
              "       0.01066032, 0.01009786, 0.00959142, 0.00909627, 0.00883278,\n",
              "       0.00838808, 0.00809823, 0.00785706, 0.00740251, 0.00690005,\n",
              "       0.00656132, 0.00645458, 0.00600804, 0.00585597, 0.00566737,\n",
              "       0.00543455, 0.00504702, 0.00487061, 0.00478936, 0.00467575,\n",
              "       0.0045435 , 0.00444897, 0.00418199, 0.00396139, 0.0038368 ,\n",
              "       0.00375759, 0.00361402, 0.00348999, 0.00338704, 0.00319661,\n",
              "       0.0031683 , 0.00310115, 0.00296445, 0.00287058, 0.00282478,\n",
              "       0.00269389, 0.00268348, 0.00256469, 0.00253129, 0.00244605,\n",
              "       0.00239657, 0.00238547, 0.00229192, 0.002209  , 0.00213017,\n",
              "       0.00206266, 0.00202732, 0.00194977, 0.00191409, 0.00188488,\n",
              "       0.00186907, 0.00180035, 0.00176726, 0.00173288, 0.00164784,\n",
              "       0.00163179, 0.00161347, 0.00154222, 0.00146935, 0.00142094,\n",
              "       0.00140945, 0.0014007 , 0.00139503, 0.00134924, 0.00132278,\n",
              "       0.00131789, 0.00129096, 0.00125058, 0.00122412, 0.00120309,\n",
              "       0.00116224, 0.00114226, 0.00112425, 0.00109753, 0.00108177,\n",
              "       0.00107019, 0.00103534, 0.00103263, 0.00100442, 0.00099775,\n",
              "       0.00097523, 0.00093976, 0.0009343 , 0.00090974, 0.00089886,\n",
              "       0.00088703, 0.00085924, 0.00084998, 0.00083907, 0.00081409,\n",
              "       0.00078367, 0.00077415, 0.0007734 , 0.00076128, 0.00075656,\n",
              "       0.00074519, 0.00072656, 0.00072216, 0.00071322, 0.00069891,\n",
              "       0.00068737, 0.00068331, 0.00067599, 0.00066748, 0.0006555 ,\n",
              "       0.00063855, 0.00062712, 0.00062258, 0.00061505, 0.00059704,\n",
              "       0.00059438, 0.0005866 , 0.00057969, 0.00057671, 0.00056889,\n",
              "       0.00056377, 0.00055806, 0.00054629, 0.00052518, 0.00051765,\n",
              "       0.00051517, 0.00049776, 0.00049245, 0.00048849, 0.00048462,\n",
              "       0.00047346, 0.0004699 , 0.00045718, 0.00045343, 0.00044454,\n",
              "       0.00044043, 0.00043823, 0.00043266, 0.00042902, 0.00041529,\n",
              "       0.00041351, 0.00040966, 0.00039285, 0.00038473, 0.00037732])"
            ]
          },
          "metadata": {},
          "execution_count": 65
        }
      ]
    },
    {
      "cell_type": "markdown",
      "source": [
        "## Randomized PCA\n",
        "This\n",
        "is a stochastic algorithm that quickly finds an approximation of the first d principal\n",
        "components. "
      ],
      "metadata": {
        "id": "00Plyv5BQ2EJ"
      }
    },
    {
      "cell_type": "code",
      "source": [
        "rand_pca = PCA(n_components=160,svd_solver='randomized')\n",
        "x_reduced  = rand_pca.fit_transform(Xmnist)"
      ],
      "metadata": {
        "id": "3JaF9GBjQXNu"
      },
      "execution_count": null,
      "outputs": []
    },
    {
      "cell_type": "markdown",
      "source": [
        "## Kernelized PCA\n",
        "the same trick used in SVM can be applied in PCA to map the instance into high-dimentional space that turns out the complex prejections into simple projection in the higher space\n"
      ],
      "metadata": {
        "id": "RGsshB48VG-g"
      }
    },
    {
      "cell_type": "code",
      "source": [
        "# from sklearn.datasets import make_swiss_roll\n",
        "# swiss_roll  = make_swiss_roll(n_samples=1000)\n",
        "# swiss_roll[1]"
      ],
      "metadata": {
        "id": "M7spW_3bbEpM"
      },
      "execution_count": null,
      "outputs": []
    },
    {
      "cell_type": "code",
      "source": [
        "from sklearn.model_selection import GridSearchCV\n",
        "from sklearn.linear_model import LogisticRegression\n",
        "from sklearn.pipeline import Pipeline\n",
        "from sklearn.decomposition import KernelPCA\n",
        "from sklearn.datasets import make_swiss_roll\n",
        "from sklearn.model_selection import train_test_split\n",
        "from sklearn.preprocessing import StandardScaler\n",
        "X,y  = make_swiss_roll(n_samples=2000,noise=0.5)\n",
        "y = y.astype(np.int64)\n",
        "# xswiss = swiss_roll[0]\n",
        "# yswiss = swiss_roll[1]\n",
        "\"\"\"\n",
        "a three-step pipeline, first scaling the data before pca,second reducing dimensionality to two dimensions\n",
        "using kPCA, then applying Logistic Regression for classification. Then it uses Grid\n",
        "SearchCV to find the best kernel and gamma value for kPCA in order to get the best\n",
        "classification accuracy at the end of the pipeline\n",
        "\"\"\"\n",
        "# split the data into train/dev/test sets\n",
        "X_train, x_,y_train, y_ = train_test_split(X,y ,\n",
        "                                   random_state=365, \n",
        "                                   test_size=0.25, \n",
        "                                   shuffle=True)\n",
        "x_cv , x_test , y_cv , y_test = train_test_split(x_,y_,test_size=0.5,\n",
        "                                                 shuffle=True,\n",
        "                                                 random_state=365)\n",
        "\n",
        "# build the pipeline\n",
        "clf = Pipeline([\n",
        "    ('scaler',StandardScaler()),\n",
        "    (\"kpca\",KernelPCA(n_components = 2)),\n",
        "    (\"log_reg\",LogisticRegression())\n",
        "])\n",
        "\n",
        "# hyperparameters tuning\n",
        "param_grid = [{\n",
        " \"kpca__gamma\": np.linspace(0.03, 0.05, 10),\n",
        " \"kpca__kernel\": [\"rbf\", \"sigmoid\"]\n",
        " }]\n",
        "\n",
        "grid_search = GridSearchCV(clf, param_grid, cv=3)\n",
        "grid_search.fit(X_train, y_train)\n",
        "\n"
      ],
      "metadata": {
        "colab": {
          "base_uri": "https://localhost:8080/"
        },
        "id": "BRMVMKf2RXKw",
        "outputId": "fb21cc90-a524-4637-8d34-389e51b41742"
      },
      "execution_count": null,
      "outputs": [
        {
          "output_type": "execute_result",
          "data": {
            "text/plain": [
              "GridSearchCV(cv=3,\n",
              "             estimator=Pipeline(steps=[('scaler', StandardScaler()),\n",
              "                                       ('kpca', KernelPCA(n_components=2)),\n",
              "                                       ('log_reg', LogisticRegression())]),\n",
              "             param_grid=[{'kpca__gamma': array([0.03      , 0.03222222, 0.03444444, 0.03666667, 0.03888889,\n",
              "       0.04111111, 0.04333333, 0.04555556, 0.04777778, 0.05      ]),\n",
              "                          'kpca__kernel': ['rbf', 'sigmoid']}])"
            ]
          },
          "metadata": {},
          "execution_count": 88
        }
      ]
    },
    {
      "cell_type": "code",
      "source": [
        "grid_search.best_params_"
      ],
      "metadata": {
        "colab": {
          "base_uri": "https://localhost:8080/"
        },
        "id": "rsz_Fg4Jcgp1",
        "outputId": "ee5d5503-8816-455a-c7d9-3d3fbb18ec7d"
      },
      "execution_count": null,
      "outputs": [
        {
          "output_type": "execute_result",
          "data": {
            "text/plain": [
              "{'kpca__gamma': 0.05, 'kpca__kernel': 'rbf'}"
            ]
          },
          "metadata": {},
          "execution_count": 74
        }
      ]
    },
    {
      "cell_type": "code",
      "source": [
        "clf.steps = [('scaler',StandardScaler()),\n",
        "             ('kpca',KernelPCA(n_components=2,gamma=0.05,kernel='rbf')),\n",
        "             (\"log_reg\",LogisticRegression())]"
      ],
      "metadata": {
        "id": "XZs2r5-xeUS3"
      },
      "execution_count": null,
      "outputs": []
    },
    {
      "cell_type": "code",
      "source": [
        "clf.get_params"
      ],
      "metadata": {
        "colab": {
          "base_uri": "https://localhost:8080/"
        },
        "id": "rzTwvqJlemSQ",
        "outputId": "385a1b0d-2cc3-4fb1-e70c-8deb46ff4900"
      },
      "execution_count": null,
      "outputs": [
        {
          "output_type": "execute_result",
          "data": {
            "text/plain": [
              "<bound method Pipeline.get_params of Pipeline(steps=[('scaler', StandardScaler()),\n",
              "                ('kpca', KernelPCA(gamma=0.05, kernel='rbf', n_components=2)),\n",
              "                ('log_reg', LogisticRegression())])>"
            ]
          },
          "metadata": {},
          "execution_count": 83
        }
      ]
    },
    {
      "cell_type": "code",
      "source": [
        "clf.fit(X_train,y_train)"
      ],
      "metadata": {
        "colab": {
          "base_uri": "https://localhost:8080/"
        },
        "id": "8fe54AMEwWD3",
        "outputId": "527a57be-d14c-4f0e-82d7-cec59d940542"
      },
      "execution_count": null,
      "outputs": [
        {
          "output_type": "execute_result",
          "data": {
            "text/plain": [
              "Pipeline(steps=[('scaler', StandardScaler()),\n",
              "                ('kpca', KernelPCA(gamma=0.05, kernel='rbf', n_components=2)),\n",
              "                ('log_reg', LogisticRegression())])"
            ]
          },
          "metadata": {},
          "execution_count": 84
        }
      ]
    },
    {
      "cell_type": "code",
      "source": [
        "clf.score(X_train,y_train)"
      ],
      "metadata": {
        "colab": {
          "base_uri": "https://localhost:8080/"
        },
        "id": "bwK2j0bkwkNy",
        "outputId": "6a67f993-163f-4877-8c53-a17309389fe0"
      },
      "execution_count": null,
      "outputs": [
        {
          "output_type": "execute_result",
          "data": {
            "text/plain": [
              "0.5333333333333333"
            ]
          },
          "metadata": {},
          "execution_count": 85
        }
      ]
    },
    {
      "cell_type": "code",
      "source": [
        "clf.score(x_cv,y_cv)"
      ],
      "metadata": {
        "colab": {
          "base_uri": "https://localhost:8080/"
        },
        "id": "xUorZcWpwreA",
        "outputId": "7c493980-385c-41de-ce74-2faf7e7d0430"
      },
      "execution_count": null,
      "outputs": [
        {
          "output_type": "execute_result",
          "data": {
            "text/plain": [
              "0.532"
            ]
          },
          "metadata": {},
          "execution_count": 86
        }
      ]
    },
    {
      "cell_type": "markdown",
      "source": [
        "## PCA For Compression"
      ],
      "metadata": {
        "id": "xFzXyjRsX86z"
      }
    },
    {
      "cell_type": "code",
      "source": [
        "from sklearn.decomposition import PCA\n",
        "pca = PCA(n_components=3)\n",
        "x_reduced  = pca.fit_transform(X)\n",
        "x_decomp = pca.inverse_transform(x_reduced)\n",
        "print('Data before compression:')\n",
        "print(X)\n",
        "print('\\nData after Compression: ')\n",
        "print(x_reduced)\n",
        "print('\\nData after reconstruction: ')\n",
        "print(x_decomp)\n"
      ],
      "metadata": {
        "colab": {
          "base_uri": "https://localhost:8080/"
        },
        "id": "203NU9AbX8s8",
        "outputId": "6bb37616-dd4c-41db-f68d-f0c4fccff723"
      },
      "execution_count": null,
      "outputs": [
        {
          "output_type": "stream",
          "name": "stdout",
          "text": [
            "Data before compression:\n",
            "[[0.24579116 0.53324466 0.39213517 0.58284353 0.11956524]\n",
            " [0.00885199 0.66430359 0.27977762 0.95327234 0.36445206]\n",
            " [0.4068706  0.28420908 0.56959762 0.77012182 0.55481057]\n",
            " [0.80767529 0.83051933 0.9093186  0.1570085  0.3050098 ]\n",
            " [0.16535928 0.28051242 0.48880065 0.74620399 0.75545292]]\n",
            "\n",
            "Data after Compression: \n",
            "[[-0.01116065 -0.29121334  0.17811185]\n",
            " [-0.42229809 -0.28657873 -0.14863897]\n",
            " [-0.10608692  0.25726732  0.08650304]\n",
            " [ 0.84645426  0.00120753 -0.07560437]\n",
            " [-0.3069086   0.31931723 -0.04037155]]\n",
            "\n",
            "Data after reconstruction: \n",
            "[[ 0.27284201  0.53507273  0.39960691  0.61953068  0.10922677]\n",
            " [-0.01291105  0.66283287  0.27376643  0.92375667  0.3727696 ]\n",
            " [ 0.34230749  0.27984599  0.55176459  0.68255944  0.57948572]\n",
            " [ 0.80980316  0.83066313  0.90990634  0.15989438  0.30419655]\n",
            " [ 0.2225067   0.28437437  0.50458538  0.82370898  0.73361195]]\n"
          ]
        }
      ]
    },
    {
      "cell_type": "code",
      "source": [],
      "metadata": {
        "id": "zR0dRAjGwxG4"
      },
      "execution_count": null,
      "outputs": []
    }
  ],
  "metadata": {
    "kernelspec": {
      "display_name": "Python 3",
      "language": "python",
      "name": "python3"
    },
    "language_info": {
      "codemirror_mode": {
        "name": "ipython",
        "version": 2
      },
      "file_extension": ".py",
      "mimetype": "text/x-python",
      "name": "python",
      "nbconvert_exporter": "python",
      "pygments_lexer": "ipython2",
      "version": "2.7.6"
    },
    "colab": {
      "provenance": [],
      "include_colab_link": true
    }
  },
  "nbformat": 4,
  "nbformat_minor": 0
}